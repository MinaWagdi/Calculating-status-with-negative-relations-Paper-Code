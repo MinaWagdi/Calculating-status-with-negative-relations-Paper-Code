{
 "cells": [
  {
   "cell_type": "code",
   "execution_count": 31,
   "metadata": {
    "collapsed": true
   },
   "outputs": [],
   "source": [
    "import numpy as np\n",
    "import csv\n",
    "import scipy.linalg as la\n",
    "from numpy import dot\n",
    "from numpy.linalg import norm\n",
    "from sklearn.preprocessing import normalize\n",
    "import matplotlib.pyplot as plt\n",
    "from scipy.stats import pearsonr\n"
   ]
  },
  {
   "cell_type": "markdown",
   "metadata": {},
   "source": [
    "### Introduction"
   ]
  },
  {
   "cell_type": "raw",
   "metadata": {},
   "source": [
    "In this notebook, I am calculating the status scores of each of the monks in the sampson monastery dataset. The results of these calculations were initially in the \"Calculating status with negative relations\" article by Phillip Bonacich and Paulette Lloyd. \n",
    "\n",
    "The results found here are Nearly the same as the ones in the paper. \n",
    "Only one value is different (the one corresponding to JOHN when calculating the status scores in CliqueB using Pos and Neg Results, as explained later) have the same values (with approximation).\n",
    "To feel the difference between both results (the results presented here and the ones in the article), I calculated the euclidean distance between both vectors of status scores."
   ]
  },
  {
   "cell_type": "markdown",
   "metadata": {},
   "source": [
    "### Define Constants"
   ]
  },
  {
   "cell_type": "code",
   "execution_count": 32,
   "metadata": {
    "collapsed": true
   },
   "outputs": [],
   "source": [
    "CLiqueA_BSize = 18\n",
    "CliqueA = 7\n",
    "CliqueB = 11"
   ]
  },
  {
   "cell_type": "markdown",
   "metadata": {},
   "source": [
    "### Define arrays of the article's results"
   ]
  },
  {
   "cell_type": "code",
   "execution_count": 33,
   "metadata": {
    "collapsed": true
   },
   "outputs": [],
   "source": [
    "Init_statusScoresForAllMonks = np.array([0.174,0.188,0.248,0.319,0.420,0.219,0.365,-0.081,-0.142,-0.292,-0.088,-0.123,-0.217,-0.072,-0.03,-0.254,-0.282,-0.287])\n",
    "Init_statusScoresPosCliqueB = np.array([0.38,0.28,0.464,0.23,0.378,0.368,0.268,0.175,0.194,0.196,0.227])\n",
    "Init_statusScoresPosNegCliqueB = np.array([0.345,-0.023,0.405,0.196,0.476,0.276,0.351,-0.298,-0.374,-0.127,-0.084])\n",
    "\n",
    "### Uncomment to print the length of each array\n",
    "# print(len(Init_statusScoresForAllMonks))\n",
    "# print(len(Init_statusScoresPosCliqueB))\n",
    "# print(len(Init_statusScoresPosNegCliqueB))"
   ]
  },
  {
   "cell_type": "markdown",
   "metadata": {},
   "source": [
    "### Load the data of the liking and disliking from the Sampson Monastery Dataset"
   ]
  },
  {
   "cell_type": "code",
   "execution_count": 34,
   "metadata": {
    "collapsed": true
   },
   "outputs": [],
   "source": [
    "with open('sampson_agent_agent[SAMPDLK].csv', newline='') as csvfile:\n",
    "    dislikingRelations = list(csv.reader(csvfile))\n",
    "with open('sampson_agent_agent[SAMPLK3].csv', newline='') as csvfile:\n",
    "    likingRelations = list(csv.reader(csvfile))\n",
    "    \n",
    "####Uncomment to print the loaded files'''\n",
    "#print(np.array(likingRelations))\n",
    "#print(\"\\n\")\n",
    "#print(np.array(dislikingRelations))"
   ]
  },
  {
   "cell_type": "markdown",
   "metadata": {},
   "source": [
    "### Remark:\n",
    "###### In the data, John hates Gregory. While Gregory Likes John. This would cause a problem since our Adj. Matrix should be symmetric"
   ]
  },
  {
   "cell_type": "code",
   "execution_count": 35,
   "metadata": {},
   "outputs": [
    {
     "name": "stdout",
     "output_type": "stream",
     "text": [
      "Liking Relation From John towards Gregory is : 0\n",
      "Liking Relation From Gregory towards John is : 3\n",
      "Disliking Relation From John towards Gregory is : 2\n",
      "Disliking Relation From Gregory towards John is : 0\n"
     ]
    }
   ],
   "source": [
    "print(\"Liking Relation From John towards Gregory is : \"+str(likingRelations[8][9]))\n",
    "print(\"Liking Relation From Gregory towards John is : \"+str(likingRelations[9][8]))\n",
    "print(\"Disliking Relation From John towards Gregory is : \"+str(dislikingRelations[8][9]))\n",
    "print(\"Disliking Relation From Gregory towards John is : \"+str(dislikingRelations[9][8]))"
   ]
  },
  {
   "cell_type": "markdown",
   "metadata": {},
   "source": [
    "### Since the data contains weights of liking or disliking, we convert everything for 1 and -1"
   ]
  },
  {
   "cell_type": "code",
   "execution_count": 36,
   "metadata": {},
   "outputs": [
    {
     "data": {
      "text/plain": [
       "'Uncomment to print the data after modifications'"
      ]
     },
     "execution_count": 36,
     "metadata": {},
     "output_type": "execute_result"
    }
   ],
   "source": [
    "#Change the weights of liking and disliking to be just 1 and -1 respectively\n",
    "#if an element in the likingRelations array is equal to anyvalue other than 0, we make it equal to 1\n",
    "likingRelations = [[int('1') if j!='0' else int(j) for j in i] for i in likingRelations]\n",
    "#if an element in the dislikingRelations array is equal to anyvalue other than 0, we make it equal to -1\n",
    "dislikingRelations = [[int('-1') if j!='0' else int(j) for j in i]for i in dislikingRelations]\n",
    "\n",
    "'''Uncomment to print the data after modifications'''\n",
    "#print(np.array(likingRelations))\n",
    "#print(\"\\n\")\n",
    "#print(np.array(dislikingRelations))"
   ]
  },
  {
   "cell_type": "markdown",
   "metadata": {},
   "source": [
    "### Making both matrices symmetric"
   ]
  },
  {
   "cell_type": "code",
   "execution_count": 37,
   "metadata": {
    "collapsed": true
   },
   "outputs": [],
   "source": [
    "''' As the article said, the adjacency matrix is symmetric, \n",
    "so we are making both lists symmetric.So, if [i,j] = 1 \n",
    "then [j,i] = 1. Same thing for -ve links but with negative values.'''\n",
    "#Make the lists symmetric, which means that if i likes j then j will like i\n",
    "for i in range(len(likingRelations)):\n",
    "    for j in range(len(likingRelations)):\n",
    "        if(likingRelations[i][j]==1):\n",
    "            likingRelations[j][i]=1\n",
    "\n",
    "#Make the lists symmetric\n",
    "for i in range(len(dislikingRelations)):\n",
    "    for j in range(len(dislikingRelations)):\n",
    "        if(dislikingRelations[i][j]==-1):\n",
    "            dislikingRelations[j][i]=-1"
   ]
  },
  {
   "cell_type": "markdown",
   "metadata": {},
   "source": [
    "###### Uncomment to show the data after modification"
   ]
  },
  {
   "cell_type": "code",
   "execution_count": 38,
   "metadata": {
    "collapsed": true
   },
   "outputs": [],
   "source": [
    "#print(np.array(likingRelations))\n",
    "#print(\"\\n\")\n",
    "#print(np.array(dislikingRelations))"
   ]
  },
  {
   "cell_type": "markdown",
   "metadata": {},
   "source": [
    "### Build the adjacency matrix by grouping the data in the liking and the disliking lists"
   ]
  },
  {
   "cell_type": "code",
   "execution_count": 39,
   "metadata": {},
   "outputs": [
    {
     "name": "stdout",
     "output_type": "stream",
     "text": [
      "[[ 0  1  1  0  1  0  0  0 -1  0  0  0  0  0  1  0  0 -1]\n",
      " [ 1  0  1  1  1  1  0  0  0  0  0  0  0  0  1  0  0  0]\n",
      " [ 1  1  0  1  0  0  1  1  0  0  0  0  0  0  0 -1 -1 -1]\n",
      " [ 0  1  1  0  1  0  1  0  0 -1  0  0 -1  0 -1 -1 -1  0]\n",
      " [ 1  1  0  1  0  1  1  0 -1 -1 -1 -1 -1 -1  0 -1 -1 -1]\n",
      " [ 0  1  0  0  1  0  1  0 -1 -1  1  0  0  0  0 -1  0  0]\n",
      " [ 0  0  1  1  1  1  0  0  0 -1 -1  0 -1  0  0 -1 -1 -1]\n",
      " [ 0  0  1  0  0  0  0  0  1  1  1  1  1  0 -1  0  0  0]\n",
      " [-1  0  0  0 -1 -1  0  1  0  1  1  0 -1  0  0  1  0  0]\n",
      " [ 0  0  0 -1 -1 -1 -1  1  1  0  0  1  1  1 -1 -1  1  1]\n",
      " [ 0  0  0  0 -1  1 -1  1  1  0  0  1  0  0  0  0 -1  0]\n",
      " [ 0  0  0  0 -1  0  0  1  0  1  1  0  1  1 -1 -1  0  0]\n",
      " [ 0  0  0 -1 -1  0 -1  1 -1  1  0  1  0  1  1  0  0  0]\n",
      " [ 0  0  0  0 -1  0  0  0  0  1  0  1  1  0  0 -1 -1  0]\n",
      " [ 1  1  0 -1  0  0  0 -1  0 -1  0 -1  1  0  0  1  0  1]\n",
      " [ 0  0 -1 -1 -1 -1 -1  0  1 -1  0 -1  0 -1  1  0  1  1]\n",
      " [ 0  0 -1 -1 -1  0 -1  0  0  1 -1  0  0 -1  0  1  0  1]\n",
      " [-1  0 -1  0 -1  0 -1  0  0  1  0  0  0  0  1  1  1  0]]\n"
     ]
    }
   ],
   "source": [
    "'''\n",
    "Combine both matrices in order to get the adjacency matrix\n",
    "'''\n",
    "AdjMatrix = likingRelations.copy()\n",
    "\n",
    "'''\n",
    "AdjMatrix now contains all the likingRelations. \n",
    "By looping on the dislikingRelations, if -ve link is found we put it in the adjMatrix.\n",
    "\n",
    "Note that: To put a dislike relation in the adjMatrix we should make sure that there is no positive relation \n",
    "in the same element in the adjMatrix i.e we should not find that i dislikes j and at the same time i likes j. \n",
    "Unfortunately in the dataset, Gregory likes John while John dislikes Gregory!!!!!!\n",
    "Since the matrix should be symmetric, I ommited the fact that\n",
    "John dislikes Gregory and I made the liking mutually between both monks.\n",
    "\n",
    "(If I did the opposite and assumed that John dislikes gregory and Greg hates \n",
    "John, the results were not as the same as the article's results)\n",
    "'''\n",
    "AdjMatrix = [[-1 if dislikingRelations[i][j]==-1 and AdjMatrix[i][j]==0 else AdjMatrix[i][j] for j in range(CLiqueA_BSize)] for i in range(CLiqueA_BSize)]\n",
    "print(np.array(AdjMatrix))"
   ]
  },
  {
   "cell_type": "markdown",
   "metadata": {},
   "source": [
    "### Results"
   ]
  },
  {
   "cell_type": "markdown",
   "metadata": {},
   "source": [
    "###### Status Scores for all the monks given all the data of liking and disliking for both Cliques"
   ]
  },
  {
   "cell_type": "code",
   "execution_count": 40,
   "metadata": {},
   "outputs": [
    {
     "name": "stdout",
     "output_type": "stream",
     "text": [
      "[ 0.17637329  0.1842515   0.23772458  0.31003089  0.419054    0.22078942\n",
      "  0.35715159 -0.09253212 -0.1853718  -0.31380684 -0.09450811 -0.12902361\n",
      " -0.2101923  -0.07598319 -0.02045768 -0.24481195 -0.27321494 -0.28012439]\n"
     ]
    }
   ],
   "source": [
    "eigenvalues_A, eigenvectors_A = np.linalg.eig(AdjMatrix)\n",
    "#print(eigenvalues_A)\n",
    "'''The results found here are NEARLY the same as the ones in the article'''\n",
    "print(eigenvectors_A[:,0])"
   ]
  },
  {
   "cell_type": "markdown",
   "metadata": {},
   "source": [
    "###### Eigenvector status scores for membership in Clique B using pos and neg relations"
   ]
  },
  {
   "cell_type": "code",
   "execution_count": 41,
   "metadata": {
    "collapsed": true
   },
   "outputs": [],
   "source": [
    "'''\n",
    "Getting the data for liking and disliking for the clique B by slicing the AdjMatrix and getting the\n",
    "data from row 7 to row 18 and column 7 to column 18\n",
    "'''\n",
    "AdjMatrix=np.array(AdjMatrix)\n",
    "PositiveAndNegWithinB = AdjMatrix[CliqueA:,CliqueA:].copy()\n",
    "\n",
    "####Uncomment to print the desired list\n",
    "# PositiveAndNegWithinB=np.array(PositiveAndNegWithinB)\n",
    "#print(PositiveAndNegWithinB)"
   ]
  },
  {
   "cell_type": "code",
   "execution_count": 42,
   "metadata": {},
   "outputs": [
    {
     "name": "stdout",
     "output_type": "stream",
     "text": [
      "[ 0.36962637  0.0857328   0.41702323  0.22082665  0.47383237  0.25600782\n",
      "  0.33941075 -0.29983305 -0.34481039 -0.11825979 -0.0729194 ]\n"
     ]
    }
   ],
   "source": [
    "eigenvalues_PosNegCliqueB, eigenvectors_PosNegCliqueB = np.linalg.eig(PositiveAndNegWithinB)\n",
    "\n",
    "'''\n",
    "The results found here are NEARLY the same as the ones in the article, only the \n",
    "second status score is not the same as the one in the article (The value corresponding to JOHN)\n",
    "'''\n",
    "print(eigenvectors_PosNegCliqueB[:,0])"
   ]
  },
  {
   "cell_type": "markdown",
   "metadata": {},
   "source": [
    "###### Eigenvector status scores for membership in Clique B using only positive links"
   ]
  },
  {
   "cell_type": "code",
   "execution_count": 43,
   "metadata": {},
   "outputs": [
    {
     "name": "stdout",
     "output_type": "stream",
     "text": [
      "[[ 0  1  1  1  1  1  0 -1  0  0  0]\n",
      " [ 1  0  1  1  0 -1  0  0  1  0  0]\n",
      " [ 1  1  0  0  1  1  1 -1 -1  1  1]\n",
      " [ 1  1  0  0  1  0  0  0  0 -1  0]\n",
      " [ 1  0  1  1  0  1  1 -1 -1  0  0]\n",
      " [ 1 -1  1  0  1  0  1  1  0  0  0]\n",
      " [ 0  0  1  0  1  1  0  0 -1 -1  0]\n",
      " [-1  0 -1  0 -1  1  0  0  1  0  1]\n",
      " [ 0  1 -1  0 -1  0 -1  1  0  1  1]\n",
      " [ 0  0  1 -1  0  0 -1  0  1  0  1]\n",
      " [ 0  0  1  0  0  0  0  1  1  1  0]]\n"
     ]
    },
    {
     "data": {
      "text/plain": [
       "[[0, 1, 1, 1, 1, 1, 0, 0, 0, 0, 0],\n",
       " [1, 0, 1, 1, 0, 0, 0, 0, 1, 0, 0],\n",
       " [1, 1, 0, 0, 1, 1, 1, 0, 0, 1, 1],\n",
       " [1, 1, 0, 0, 1, 0, 0, 0, 0, 0, 0],\n",
       " [1, 0, 1, 1, 0, 1, 1, 0, 0, 0, 0],\n",
       " [1, 0, 1, 0, 1, 0, 1, 1, 0, 0, 0],\n",
       " [0, 0, 1, 0, 1, 1, 0, 0, 0, 0, 0],\n",
       " [0, 0, 0, 0, 0, 1, 0, 0, 1, 0, 1],\n",
       " [0, 1, 0, 0, 0, 0, 0, 1, 0, 1, 1],\n",
       " [0, 0, 1, 0, 0, 0, 0, 0, 1, 0, 1],\n",
       " [0, 0, 1, 0, 0, 0, 0, 1, 1, 1, 0]]"
      ]
     },
     "execution_count": 43,
     "metadata": {},
     "output_type": "execute_result"
    }
   ],
   "source": [
    "PositiveWithinB=AdjMatrix[7:,7:].copy()\n",
    "print(PositiveWithinB)\n",
    "'''\n",
    "We get the desired data by getting the data concerning the clique B and removing all the \n",
    "negative links to be equal to 0 instead of -1\n",
    "'''\n",
    "PositiveWithinB = [[0 if j == -1 else j for j in i] for i in PositiveWithinB]\n",
    "PositiveWithinB"
   ]
  },
  {
   "cell_type": "code",
   "execution_count": null,
   "metadata": {
    "collapsed": true
   },
   "outputs": [],
   "source": []
  },
  {
   "cell_type": "code",
   "execution_count": 44,
   "metadata": {},
   "outputs": [
    {
     "name": "stdout",
     "output_type": "stream",
     "text": [
      "[-0.38045851 -0.28049753 -0.46397685 -0.22977202 -0.37812708 -0.36814939\n",
      " -0.26762282 -0.17467287 -0.19426843 -0.19586316 -0.22749399]\n"
     ]
    }
   ],
   "source": [
    "eigenvalues_PosCliqueB, eigenvectors_PosCliqueB = np.linalg.eig(PositiveWithinB)\n",
    "#print(eigenvalues_PosCliqueB)\n",
    "\n",
    "'''The results found here are the same (with approximation) as the ones in the article'''\n",
    "print(eigenvectors_PosCliqueB[:,0])"
   ]
  },
  {
   "cell_type": "markdown",
   "metadata": {
    "collapsed": true
   },
   "source": [
    "### Evaluation"
   ]
  },
  {
   "cell_type": "code",
   "execution_count": 45,
   "metadata": {},
   "outputs": [
    {
     "name": "stdout",
     "output_type": "stream",
     "text": [
      "\n",
      "Euclidean Distance (L2 norm) between statusScoresForAllMonks original and the calculated\n",
      "\n",
      "0.056584677174984756\n",
      "\n",
      "Euclidean Distance (L2 norm) between statusScoresPosNegCliqueB and the calculated one\n",
      "\n",
      "0.12158725410382729\n",
      "\n",
      "Euclidean Distance (L2 norm) between statusScoresPosCliqueB and the calculated one\n",
      "\n",
      "1.9996666890182215\n"
     ]
    }
   ],
   "source": [
    "print(\"\\nEuclidean Distance (L2 norm) between statusScoresForAllMonks original and the calculated\\n\")\n",
    "print(np.linalg.norm(Init_statusScoresForAllMonks-eigenvectors_A[:,0]))\n",
    "\n",
    "print(\"\\nEuclidean Distance (L2 norm) between statusScoresPosNegCliqueB and the calculated one\\n\")\n",
    "print(np.linalg.norm(Init_statusScoresPosNegCliqueB-eigenvectors_PosNegCliqueB[:,0]))\n",
    "\n",
    "print(\"\\nEuclidean Distance (L2 norm) between statusScoresPosCliqueB and the calculated one\\n\")\n",
    "print(np.linalg.norm(Init_statusScoresPosCliqueB-eigenvectors_PosCliqueB[:,0]))"
   ]
  },
  {
   "cell_type": "markdown",
   "metadata": {},
   "source": [
    "### Status scores in the absence of cliques"
   ]
  },
  {
   "cell_type": "code",
   "execution_count": 46,
   "metadata": {},
   "outputs": [
    {
     "data": {
      "text/plain": [
       "array([0.2713941 , 0.2713941 , 0.63585549, 0.47348616, 0.47348616])"
      ]
     },
     "execution_count": 46,
     "metadata": {},
     "output_type": "execute_result"
    }
   ],
   "source": [
    "NetworkA = np.array([[0,0,1,0,0],\n",
    "                   [0,0,1,0,0],\n",
    "                    [1,1,0,1,1],\n",
    "                    [0,0,1,0,1],\n",
    "                    [0,0,1,1,0]])\n",
    "eigenvaluesNetworkA, eigenvectorsNetworkA = np.linalg.eig(NetworkA)\n",
    "eigenvectorsNetworkA[:,1]"
   ]
  },
  {
   "cell_type": "code",
   "execution_count": 47,
   "metadata": {},
   "outputs": [
    {
     "data": {
      "text/plain": [
       "array([[0.42681726, 0.42681726, 1.        , 0.74464429, 0.74464429]])"
      ]
     },
     "execution_count": 47,
     "metadata": {},
     "output_type": "execute_result"
    }
   ],
   "source": [
    "'''Result after normalization so that the maximum score = 1'''\n",
    "normalize(eigenvectorsNetworkA[:,1].reshape(1, -1), norm=\"max\")"
   ]
  },
  {
   "cell_type": "code",
   "execution_count": 48,
   "metadata": {},
   "outputs": [
    {
     "data": {
      "text/plain": [
       "array([ 0.40422121,  0.40422121,  0.73309821,  0.26055463, -0.26055463])"
      ]
     },
     "execution_count": 48,
     "metadata": {},
     "output_type": "execute_result"
    }
   ],
   "source": [
    "NetworkB = np.array([[0,0,1,0,0],\n",
    "                   [0,0,1,0,0],\n",
    "                    [1,1,0,1,-1],\n",
    "                    [0,0,1,0,1],\n",
    "                    [0,0,-1,1,0]])\n",
    "eigenvaluesNetworkB, eigenvectorsNetworkB = np.linalg.eig(NetworkB)\n",
    "eigenvectorsNetworkB[:,0]"
   ]
  },
  {
   "cell_type": "code",
   "execution_count": 49,
   "metadata": {},
   "outputs": [
    {
     "data": {
      "text/plain": [
       "array([[ 0.55138752,  0.55138752,  1.        ,  0.35541573, -0.35541573]])"
      ]
     },
     "execution_count": 49,
     "metadata": {},
     "output_type": "execute_result"
    }
   ],
   "source": [
    "'''Result after normalization so that the maximum score = 1'''\n",
    "normalize(eigenvectorsNetworkB[:,0].reshape(1, -1), norm=\"max\")"
   ]
  },
  {
   "cell_type": "markdown",
   "metadata": {},
   "source": [
    "### Some Extra Analysis"
   ]
  },
  {
   "cell_type": "code",
   "execution_count": 50,
   "metadata": {
    "collapsed": true
   },
   "outputs": [],
   "source": [
    "CliqueA_Names = ['Romul','Bona','Ambrose','Berth','Peter','Louis','Victor']\n",
    "CliqueB_Names = ['Winf','John','Greg','Hugh','Boniface','Mark','Albert','Amand','Basil','Elia','Simplicius']"
   ]
  },
  {
   "cell_type": "code",
   "execution_count": 51,
   "metadata": {},
   "outputs": [
    {
     "data": {
      "text/plain": [
       "\"\\nStatus Scores for Clique B using only Pos Relations are all reversed in the article\\nthe results I got are all negative while in the article they are all positive, so I returned to the article's solution\\n\""
      ]
     },
     "execution_count": 51,
     "metadata": {},
     "output_type": "execute_result"
    }
   ],
   "source": [
    "'''\n",
    "Status Scores for Clique B using only Pos Relations are all reversed in the article\n",
    "the results I got are all negative while in the article they are all positive, so I returned to the article's solution\n",
    "'''"
   ]
  },
  {
   "cell_type": "code",
   "execution_count": 52,
   "metadata": {
    "collapsed": true
   },
   "outputs": [],
   "source": [
    "eigenvectors_PosCliqueB[:,0]*=-1"
   ]
  },
  {
   "cell_type": "code",
   "execution_count": 53,
   "metadata": {},
   "outputs": [
    {
     "data": {
      "text/plain": [
       "array([0.38045851, 0.28049753, 0.46397685, 0.22977202, 0.37812708,\n",
       "       0.36814939, 0.26762282, 0.17467287, 0.19426843, 0.19586316,\n",
       "       0.22749399])"
      ]
     },
     "execution_count": 53,
     "metadata": {},
     "output_type": "execute_result"
    }
   ],
   "source": [
    "eigenvectors_PosCliqueB[:,0]"
   ]
  },
  {
   "cell_type": "code",
   "execution_count": 54,
   "metadata": {},
   "outputs": [
    {
     "data": {
      "text/plain": [
       "array([ 0.36962637,  0.0857328 ,  0.41702323,  0.22082665,  0.47383237,\n",
       "        0.25600782,  0.33941075, -0.29983305, -0.34481039, -0.11825979,\n",
       "       -0.0729194 ])"
      ]
     },
     "execution_count": 54,
     "metadata": {},
     "output_type": "execute_result"
    }
   ],
   "source": [
    "eigenvectors_PosNegCliqueB[:,0]"
   ]
  },
  {
   "cell_type": "code",
   "execution_count": 55,
   "metadata": {},
   "outputs": [
    {
     "data": {
      "image/png": "[encoded data removed]",
      "text/plain": [
       "<matplotlib.figure.Figure at 0x1a139fe940>"
      ]
     },
     "metadata": {},
     "output_type": "display_data"
    }
   ],
   "source": [
    "x = np.linspace(0, 0.5)\n",
    "y = x\n",
    "\n",
    "ig, ax = plt.subplots()\n",
    "ax.scatter(eigenvectors_PosCliqueB[:,0], eigenvectors_PosNegCliqueB[:,0])\n",
    "\n",
    "for i, txt in enumerate(CliqueB_Names):\n",
    "    ax.annotate(txt, (eigenvectors_PosCliqueB[:,0][i],eigenvectors_PosNegCliqueB[:,0][i]))\n",
    "ax.plot(x,y, linestyle='solid')\n",
    "\n",
    "plt.xlabel(\"Centrality in Clique B using only Pos Links\")\n",
    "plt.ylabel(\"Centrality in Clique B using Pos and Neg Links\")\n",
    "\n",
    "plt.show()"
   ]
  },
  {
   "cell_type": "code",
   "execution_count": 56,
   "metadata": {},
   "outputs": [
    {
     "data": {
      "text/plain": [
       "'Centrality Scores are all reversed in Table 3 as stated in the article'"
      ]
     },
     "execution_count": 56,
     "metadata": {},
     "output_type": "execute_result"
    }
   ],
   "source": [
    "'''Centrality Scores are all reversed in Table 3 as stated in the article'''"
   ]
  },
  {
   "cell_type": "code",
   "execution_count": 57,
   "metadata": {
    "collapsed": true
   },
   "outputs": [],
   "source": [
    "eigenvectors_A[:,0][7:]*=-1"
   ]
  },
  {
   "cell_type": "code",
   "execution_count": 58,
   "metadata": {},
   "outputs": [
    {
     "data": {
      "image/png": "[encoded data removed]",
      "text/plain": [
       "<matplotlib.figure.Figure at 0x1a1bf597b8>"
      ]
     },
     "metadata": {},
     "output_type": "display_data"
    }
   ],
   "source": [
    "ig, ax = plt.subplots()\n",
    "ax.scatter(eigenvectors_PosNegCliqueB[:,0], eigenvectors_A[:,0][7:])\n",
    "\n",
    "for i, txt in enumerate(CliqueB_Names):\n",
    "    ax.annotate(txt, (eigenvectors_PosNegCliqueB[:,0][i],eigenvectors_A[:,0][7:][i]))\n",
    "ax.plot(x,y, linestyle='solid')\n",
    "plt.xlabel(\"Centrality in Clique B using Pos and Neg Links\")\n",
    "plt.ylabel(\"Centrality in Clique B using Pos and Neg Links \\nfor both Clique A and B \")\n",
    "plt.show()\n"
   ]
  },
  {
   "cell_type": "markdown",
   "metadata": {},
   "source": [
    "### Correlation"
   ]
  },
  {
   "cell_type": "code",
   "execution_count": 59,
   "metadata": {},
   "outputs": [
    {
     "data": {
      "text/plain": [
       "-0.11411458283619025"
      ]
     },
     "execution_count": 59,
     "metadata": {},
     "output_type": "execute_result"
    }
   ],
   "source": [
    "corr, _ = pearsonr(eigenvectors_PosNegCliqueB[:,0], eigenvectors_A[:,0][7:])\n",
    "corr"
   ]
  },
  {
   "cell_type": "code",
   "execution_count": null,
   "metadata": {
    "collapsed": true
   },
   "outputs": [],
   "source": []
  }
 ],
 "metadata": {
  "kernelspec": {
   "display_name": "Python 3",
   "language": "python",
   "name": "python3"
  },
  "language_info": {
   "codemirror_mode": {
    "name": "ipython",
    "version": 3
   },
   "file_extension": ".py",
   "mimetype": "text/x-python",
   "name": "python",
   "nbconvert_exporter": "python",
   "pygments_lexer": "ipython3",
   "version": "3.7.4"
  }
 },
 "nbformat": 4,
 "nbformat_minor": 2
}
